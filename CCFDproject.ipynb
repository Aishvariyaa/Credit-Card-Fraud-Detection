{
 "cells": [
  {
   "cell_type": "code",
   "execution_count": null,
   "metadata": {},
   "outputs": [],
   "source": [
    "import pandas as pd\n",
    "import numpy as np\n",
    "import seaborn as sns\n",
    "import matplotlib.pyplot as plt\n",
    "from sklearn.model_selection import train_test_split\n",
    "from sklearn.preprocessing import StandardScaler\n",
    "from sklearn.linear_model import LogisticRegression\n",
    "from sklearn.metrics import accuracy_score, precision_score, recall_score, f1_score, confusion_matrix, classification_report\n",
    "import warnings\n",
    "warnings.filterwarnings(\"ignore\")"
   ]
  },
  {
   "cell_type": "code",
   "execution_count": null,
   "metadata": {},
   "outputs": [],
   "source": [
    "# Load and print your dataset\n",
    "data= pd.read_csv('creditcard .csv')\n",
    "print(\"Customer Credit Card Details:\")\n",
    "print(data)"
   ]
  },
  {
   "cell_type": "code",
   "execution_count": null,
   "metadata": {},
   "outputs": [],
   "source": [
    "# Data Cleansing\n",
    "# Check for missing values\n",
    "missing_values = data.isnull().sum()\n",
    "print(\"Missing Values:\\n\", missing_values)"
   ]
  },
  {
   "cell_type": "code",
   "execution_count": null,
   "metadata": {},
   "outputs": [],
   "source": [
    "# Exploratory Data Analysis (EDA)\n",
    "# Summary statistics\n",
    "summary = data.describe()\n",
    "print(\"\\nSummary Statistics:\\n\", summary)"
   ]
  },
  {
   "cell_type": "code",
   "execution_count": null,
   "metadata": {},
   "outputs": [],
   "source": [
    "# Class distribution\n",
    "class_counts = data['Class'].value_counts()\n",
    "print(\"\\nClass Distribution:\\n\", class_counts)"
   ]
  },
  {
   "cell_type": "code",
   "execution_count": null,
   "metadata": {},
   "outputs": [],
   "source": [
    "# Data Visualization\n",
    "# Visualize class distribution\n",
    "plt.figure(figsize=(3, 3))\n",
    "sns.countplot(x='Class', data=data,color=\"Teal\")\n",
    "plt.title('Class Distribution')\n",
    "plt.show()"
   ]
  },
  {
   "cell_type": "code",
   "execution_count": null,
   "metadata": {},
   "outputs": [],
   "source": [
    "# Pie chart for class distribution\n",
    "plt.figure(figsize=(6, 6))\n",
    "labels = ['Non-Fraudulent', 'Fraudulent']\n",
    "sizes = [class_counts[0], class_counts[1]]\n",
    "colors = ['lightblue', 'blue']\n",
    "explode = (0, 0.1) # Explode the \"Fraudulent\" slice\n",
    "plt.pie(sizes, explode=explode, labels=labels, colors=colors, \n",
    "autopct='%1.1f%%', shadow=True, startangle=140)\n",
    "plt.title('Class Distribution')\n",
    "plt.show()"
   ]
  },
  {
   "cell_type": "code",
   "execution_count": null,
   "metadata": {},
   "outputs": [],
   "source": [
    "#Frequency diagram between class and amount\n",
    "plt.figure(figsize=(6, 4))\n",
    "sns.distplot(data[data['Class'] == 0]['Amount'], bins=50, kde=True, color='yellow', label='Non-Fraudulent')\n",
    "sns.distplot(data[data['Class'] == 1]['Amount'], bins=50, kde=True, color='red', label='Fraudulent')\n",
    "plt.title('Transaction Amount by Class')\n",
    "plt.xlabel('Amount')\n",
    "plt.ylabel('Frequency of class')\n",
    "plt.legend()\n",
    "plt.show()"
   ]
  },
  {
   "cell_type": "code",
   "execution_count": null,
   "metadata": {},
   "outputs": [],
   "source": [
    "#Pairplot of selected features\n",
    "#Pairplot of V1 and V2\n",
    "key_features = [\"V1\",\"V2\"]\n",
    "sns.pairplot(data, hue='Class', vars=key_features)\n",
    "plt.show()"
   ]
  },
  {
   "cell_type": "code",
   "execution_count": null,
   "metadata": {},
   "outputs": [],
   "source": [
    "#Pairplot of V3 and V4\n",
    "key_features = [\"V3\",\"V4\"]\n",
    "sns.pairplot(data, hue='Class', vars=key_features)\n",
    "plt.show()"
   ]
  },
  {
   "cell_type": "code",
   "execution_count": null,
   "metadata": {},
   "outputs": [],
   "source": [
    "#Boxplot of Amount by class\n",
    "plt.figure(figsize=(8, 6))\n",
    "sns.boxplot(x='Class', y='Amount', data=data, showfliers=False)\n",
    "plt.title('Amount by Class')\n",
    "plt.xlabel('Class')\n",
    "plt.ylabel('Amount')\n",
    "plt.show()"
   ]
  },
  {
   "cell_type": "code",
   "execution_count": null,
   "metadata": {},
   "outputs": [],
   "source": [
    "#Boxplot of Time by class\n",
    "plt.figure(figsize=(8, 6))\n",
    "sns.boxplot(x='Class', y='Time', data=data, showfliers=False)\n",
    "plt.title('Time by Class')\n",
    "plt.xlabel('Class')\n",
    "plt.ylabel('Time')\n",
    "plt.show()"
   ]
  },
  {
   "cell_type": "code",
   "execution_count": null,
   "metadata": {},
   "outputs": [],
   "source": [
    "#Scatter plot for selected featuers\n",
    "# Scatter plots for V1 and V2\n",
    "plt.figure(figsize=(10, 8))\n",
    "sns.scatterplot(x='V1', y='V2', data=data, hue='Class')\n",
    "plt.title('Scatter Plot of V1 vs. V2')\n",
    "plt.show()"
   ]
  },
  {
   "cell_type": "code",
   "execution_count": null,
   "metadata": {},
   "outputs": [],
   "source": [
    "#Scatter plot for V3 and V4\n",
    "plt.figure(figsize=(10, 8))\n",
    "sns.scatterplot(x='V3', y='V4', data=data, hue='Class')\n",
    "plt.title('Scatter Plot of V3 vs. V4')\n",
    "plt.show()"
   ]
  },
  {
   "cell_type": "code",
   "execution_count": null,
   "metadata": {},
   "outputs": [],
   "source": [
    "# Correlation matrix\n",
    "correlation_matrix = data.corr()\n",
    "plt.figure(figsize=(35, 35))\n",
    "sns.heatmap(correlation_matrix, annot=True, cmap='coolwarm')\n",
    "plt.title('Correlation Matrix')\n",
    "plt.show()"
   ]
  },
  {
   "cell_type": "code",
   "execution_count": null,
   "metadata": {},
   "outputs": [],
   "source": [
    "data.describe()"
   ]
  },
  {
   "cell_type": "code",
   "execution_count": null,
   "metadata": {},
   "outputs": [],
   "source": [
    "# Split the dataset into features and target variable\n",
    "x=data.drop('Class', axis=1)\n",
    "y=data['Class']\n",
    "# Split the data into training and testing sets\n",
    "x_train, x_test, y_train, y_test=train_test_split(x, y, test_size=0.2, random_state=42)"
   ]
  },
  {
   "cell_type": "code",
   "execution_count": null,
   "metadata": {},
   "outputs": [],
   "source": [
    "# Feature scaling (optional but can help with logistic regression)\n",
    "scaler=StandardScaler()\n",
    "x_train=scaler.fit_transform(x_train)\n",
    "x_test=scaler.transform(x_test)"
   ]
  },
  {
   "cell_type": "code",
   "execution_count": null,
   "metadata": {},
   "outputs": [],
   "source": [
    "# Create and train the Logistic Regression model\n",
    "model=LogisticRegression()\n",
    "model.fit(x_train, y_train)"
   ]
  },
  {
   "cell_type": "code",
   "execution_count": null,
   "metadata": {},
   "outputs": [],
   "source": [
    "# Make predictions on the test data\n",
    "y_pred=model.predict(x_test)"
   ]
  },
  {
   "cell_type": "code",
   "execution_count": null,
   "metadata": {},
   "outputs": [],
   "source": [
    "# Evaluate the model\n",
    "acc=accuracy_score(y_test, y_pred)\n",
    "pre=precision_score(y_test, y_pred)\n",
    "rec=recall_score(y_test, y_pred)\n",
    "f1=f1_score(y_test, y_pred)\n",
    "con=confusion_matrix(y_test, y_pred)"
   ]
  },
  {
   "cell_type": "code",
   "execution_count": null,
   "metadata": {},
   "outputs": [],
   "source": [
    "#Displaying model evaluation\n",
    "print(\"Model Evaluation:\")\n",
    "print(f\"Recall: {rec}\")\n",
    "print(f\"F1 Score: {f1}\")\n",
    "\n",
    "#Displaying Confusion Matrix\n",
    "print(\"Confusion Matrix:\")\n",
    "print(con)\n",
    "\n",
    "#Displaying Precision and Accuracy\n",
    "print(f\"Precision: {pre}\")\n",
    "print(f\"Accuracy: {acc}\")"
   ]
  },
  {
   "cell_type": "code",
   "execution_count": null,
   "metadata": {},
   "outputs": [],
   "source": [
    "# Generate a classification report\n",
    "rep=classification_report(y_test, y_pred)\n",
    "print(\"\\nClassification Report:\")\n",
    "print(rep)"
   ]
  }
 ],
 "metadata": {
  "kernelspec": {
   "display_name": "Python 3",
   "language": "python",
   "name": "python3"
  },
  "language_info": {
   "codemirror_mode": {
    "name": "ipython",
    "version": 3
   },
   "file_extension": ".py",
   "mimetype": "text/x-python",
   "name": "python",
   "nbconvert_exporter": "python",
   "pygments_lexer": "ipython3",
   "version": "3.7.1"
  }
 },
 "nbformat": 4,
 "nbformat_minor": 2
}
